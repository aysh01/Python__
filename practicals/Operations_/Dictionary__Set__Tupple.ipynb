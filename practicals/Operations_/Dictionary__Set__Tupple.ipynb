{
  "nbformat": 4,
  "nbformat_minor": 0,
  "metadata": {
    "colab": {
      "provenance": []
    },
    "kernelspec": {
      "name": "python3",
      "display_name": "Python 3"
    },
    "language_info": {
      "name": "python"
    }
  },
  "cells": [
    {
      "cell_type": "markdown",
      "source": [
        "Set can't have List and Dictionary as Elements.. !"
      ],
      "metadata": {
        "id": "HfPiTEc1uDx_"
      }
    },
    {
      "cell_type": "code",
      "execution_count": null,
      "metadata": {
        "colab": {
          "base_uri": "https://localhost:8080/"
        },
        "id": "1_0XLUy9tozC",
        "outputId": "8825849b-d017-412a-fe78-8260b68b9775"
      },
      "outputs": [
        {
          "output_type": "stream",
          "name": "stdout",
          "text": [
            "##Dictionary Operations..\n",
            " {1: [1, 2, 3], 'numb': {1: 1, 2: 2, 3: 3}, 'tup': (7, 8, 9), 'set': {5, 6, 7}}\n",
            "Third - Element:  3\n",
            "Add Element 10 to the List with the key 1:  [1, 2, 3, 10]\n",
            "\n",
            "##Tupple Operations..\n",
            " (1, ['raj', 5.5], {'sun': 'holiday', 'mon': 'school'}, {1, 2, 3}, (12, 13))\n"
          ]
        }
      ],
      "source": [
        "a={1:[1,2,3],\"numb\":{1:1,2:2,3:3},\"tup\":(7,8,9),\"set\":{5,6,7}} #Dictionary..\n",
        "tuplex=(1,[\"raj\",5.5],{\"sun\":\"holiday\",\"mon\":\"school\"},{1,2,3},(12,13)) #Tupple..\n",
        "c={89,(1,55,63)} #Set..\n",
        "\n",
        "##Dictionary Operations..\n",
        "#Current Dictionary..\n",
        "print(\"##Dictionary Operations..\\n\",a)\n",
        "\n",
        "#Print element 3 from second element..\n",
        "b=a.get(\"numb\")[3] #Key value..\n",
        "print(\"Third - Element: \",b)\n",
        "\n",
        "#Add 10 to the list associated with the key 1 and print..\n",
        "a=a.get(1)\n",
        "a.append(10)\n",
        "print(\"Add Element 10 to the List with the key 1: \",a)\n",
        "\n",
        "\n",
        "##Tupple Operations..\n",
        "print(\"\\n##Tupple Operations..\\n\",tuplex)"
      ]
    }
  ]
}