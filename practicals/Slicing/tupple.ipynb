{
  "nbformat": 4,
  "nbformat_minor": 0,
  "metadata": {
    "colab": {
      "provenance": []
    },
    "kernelspec": {
      "name": "python3",
      "display_name": "Python 3"
    },
    "language_info": {
      "name": "python"
    }
  },
  "cells": [
    {
      "cell_type": "code",
      "execution_count": 44,
      "metadata": {
        "colab": {
          "base_uri": "https://localhost:8080/"
        },
        "id": "F3pfNqAsMU5O",
        "outputId": "0a56c1a5-df6e-41f2-ac67-77624c0dac46"
      },
      "outputs": [
        {
          "output_type": "stream",
          "name": "stdout",
          "text": [
            "Original Tupple..\n",
            " (4, 6, 2, 8, 3, 1)\n",
            "Modified Tupple..\n",
            " (4, 6, 2, 8, 3, 1, 9)\n",
            "New Modified Tupple..\n",
            " (4, 6, 2, 8, 15, 20, 25, 3, 1, 9)\n"
          ]
        }
      ],
      "source": [
        "#Original Tupple..\n",
        "tuplex=(4,6,2,8,3,1)\n",
        "\n",
        "#print current tupple()..\n",
        "print(\"Original Tupple..\\n\",tuplex)\n",
        "\n",
        "a = (9,)\n",
        "tuplex = tuplex + (a)\n",
        "print(\"Modified Tupple..\\n\",tuplex)\n",
        "\n",
        "x=(15,20,25)\n",
        "tuplex=tuplex[0:4]+x+tuplex[-3:]\n",
        "print(\"New Modified Tupple..\\n\",tuplex)"
      ]
    }
  ]
}