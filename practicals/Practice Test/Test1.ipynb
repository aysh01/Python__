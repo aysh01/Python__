{
  "nbformat": 4,
  "nbformat_minor": 0,
  "metadata": {
    "colab": {
      "provenance": []
    },
    "kernelspec": {
      "name": "python3",
      "display_name": "Python 3"
    },
    "language_info": {
      "name": "python"
    }
  },
  "cells": [
    {
      "cell_type": "code",
      "execution_count": 1,
      "metadata": {
        "colab": {
          "base_uri": "https://localhost:8080/"
        },
        "id": "q5_jYvW6ItEd",
        "outputId": "cf42c8b7-4901-4dda-9239-7935207a842c"
      },
      "outputs": [
        {
          "output_type": "stream",
          "name": "stdout",
          "text": [
            "Current Dictionary.. {'ID': 101, 'Name': 'Yash', 'Age': 25}\n",
            "Updated Dictionary.. {'ID': 101, 'Name': 'Yash', 'Age': 25, 'designation': 'programmer', 'mode': 'fulltime'}\n",
            "New Updated Dictionary.. {'ID': 101, 'Name': 'Yash', 'Age': 25, 'designation': 'programmer', 'mode': 'fulltime', 'peranum': '10L'}\n"
          ]
        }
      ],
      "source": [
        "person={\"ID\":101,\"Name\":\"Yash\",\"Age\":25}\n",
        "profession={\"designation\":\"programmer\",\"mode\":\"fulltime\"}\n",
        "package={\"peranum\":\"10L\"}\n",
        "\n",
        "#pring current dictonary person..\n",
        "print(\"Current Dictionary..\",person)\n",
        "\n",
        "#update ditionary person with profession and print it..\n",
        "person.update(profession)\n",
        "print(\"Updated Dictionary..\",person)\n",
        "\n",
        "#update ditionary person with package and print it..\n",
        "person.update(package)\n",
        "print(\"New Updated Dictionary..\",person)"
      ]
    }
  ]
}