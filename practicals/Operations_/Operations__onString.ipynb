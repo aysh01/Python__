{
  "nbformat": 4,
  "nbformat_minor": 0,
  "metadata": {
    "colab": {
      "provenance": []
    },
    "kernelspec": {
      "name": "python3",
      "display_name": "Python 3"
    },
    "language_info": {
      "name": "python"
    }
  },
  "cells": [
    {
      "cell_type": "code",
      "source": [
        "str1=\"Nothing is impossible. The word itself says 'I'm possible!\"\n",
        "vowels = 'AEIOUaeiou'\n",
        "lst1=[]\n",
        "\n",
        "# #Create a list of characters by removing all ovals from the string..\n",
        "for i in str1:\n",
        "  if i not in vowels:\n",
        "    lst1.append(i)\n",
        "print(\"List of Characters after removing all ovals from the string..\\n\",lst1)\n",
        "\n",
        "#Create a list of unique characters from the string and sort the list..\n",
        "a=list(set(str1))\n",
        "for i in a:\n",
        "  print(\"\\nList of Unique Characters..\\n\",a)\n",
        "  a.sort()\n",
        "  print(\"List in Sorted Order..\\n\",a)\n",
        "  break"
      ],
      "metadata": {
        "colab": {
          "base_uri": "https://localhost:8080/"
        },
        "id": "cjuBm5WHHnyy",
        "outputId": "19434805-2c89-4654-a752-6492235eac25"
      },
      "execution_count": null,
      "outputs": [
        {
          "output_type": "stream",
          "name": "stdout",
          "text": [
            "List of Characters after removing all ovals from the string..\n",
            " ['N', 't', 'h', 'n', 'g', ' ', 's', ' ', 'm', 'p', 's', 's', 'b', 'l', '.', ' ', 'T', 'h', ' ', 'w', 'r', 'd', ' ', 't', 's', 'l', 'f', ' ', 's', 'y', 's', ' ', \"'\", \"'\", 'm', ' ', 'p', 's', 's', 'b', 'l', '!']\n",
            "\n",
            "List of Unique Characters..\n",
            " ['d', 't', 'I', 'g', 'b', 'i', 'T', \"'\", '!', 'N', 'n', 'w', ' ', 's', 'h', 'f', 'l', 'e', 'a', 'o', 'm', 'p', '.', 'r', 'y']\n",
            "List in Sorted Order..\n",
            " [' ', '!', \"'\", '.', 'I', 'N', 'T', 'a', 'b', 'd', 'e', 'f', 'g', 'h', 'i', 'l', 'm', 'n', 'o', 'p', 'r', 's', 't', 'w', 'y']\n"
          ]
        }
      ]
    }
  ]
}