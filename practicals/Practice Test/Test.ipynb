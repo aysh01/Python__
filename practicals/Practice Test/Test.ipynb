{
  "nbformat": 4,
  "nbformat_minor": 0,
  "metadata": {
    "colab": {
      "provenance": []
    },
    "kernelspec": {
      "name": "python3",
      "display_name": "Python 3"
    },
    "language_info": {
      "name": "python"
    }
  },
  "cells": [
    {
      "cell_type": "code",
      "execution_count": 18,
      "metadata": {
        "colab": {
          "base_uri": "https://localhost:8080/"
        },
        "id": "Ev_2QwsCAtWM",
        "outputId": "d2240749-255b-4f4f-ee1a-442e978ae759"
      },
      "outputs": [
        {
          "output_type": "stream",
          "name": "stdout",
          "text": [
            "Current Dictionary:  {'Apple': '6L', 'Infosys': '10L', 'Accenture': '25L'}\n",
            "None\n",
            "New Key value 'IBM' Added.. {'Apple': '6L', 'Infosys': '10L', 'Accenture': '25L', 'IBM': '10L'}\n",
            "Employee count of 'Accenture'.. 25L\n",
            "New Employee count of 'Accenture'.. 30L\n",
            "New Dictionary after 'Apple' company being deleted.. {'Infosys': '10L', 'Accenture': '30L', 'IBM': '10L'}\n",
            "List of Companies.. Infosys\n",
            "List of Companies.. Accenture\n",
            "List of Companies.. IBM\n",
            "List of Employees.. 10L\n",
            "List of Employees.. 30L\n",
            "List of Employees.. 10L\n",
            "Company Name is 0 & Employee Count is Infosys\n",
            "Company Name is 1 & Employee Count is Accenture\n",
            "Company Name is 2 & Employee Count is IBM\n"
          ]
        }
      ],
      "source": [
        "#Original Dictionary\n",
        "companies={\"Apple\":\"6L\",\"Infosys\":\"10L\",\"Accenture\":\"25L\"}\n",
        "\n",
        "#print current dictionary\n",
        "\n",
        "print(\"Current Dictionary: \",companies)\n",
        "\n",
        "#employee count of IBM\n",
        "print(companies.get(\"IBM\"))\n",
        "\n",
        "#Add new key value\n",
        "companies.update({\"IBM\":\"10L\"})\n",
        "print(\"New Key value 'IBM' Added..\",companies)\n",
        "\n",
        "#current employee count of accenture..\n",
        "print(\"Employee count of 'Accenture'..\",companies.get(\"Accenture\"))\n",
        "\n",
        "#new employee count of accenture..\n",
        "companies.update({\"Accenture\":\"30L\"})\n",
        "print(\"New Employee count of 'Accenture'..\",companies.get(\"Accenture\"))\n",
        "\n",
        "#Company Apple deleted..\n",
        "# del companies[0]\n",
        "companies.pop(\"Apple\")\n",
        "print(\"New Dictionary after 'Apple' company being deleted..\",companies)\n",
        "\n",
        "#print list of companies using for loop..\n",
        "for i in companies.keys():\n",
        "    print(\"List of Companies..\",i)\n",
        "    # break\n",
        "\n",
        "#print list of employee count using for loop..\n",
        "for j in companies.values():\n",
        "    print(\"List of Employees..\",j)\n",
        "    # break\n",
        "\n",
        "\n",
        "#print company wise employee count using for loop..\n",
        "\n",
        "for i,j in enumerate(companies):\n",
        "    print(f\"Company Name is {i} & Employee Count is {j}\")"
      ]
    }
  ]
}