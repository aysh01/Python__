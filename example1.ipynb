{
 "cells": [
  {
   "cell_type": "code",
   "execution_count": 3,
   "id": "24c07b40",
   "metadata": {},
   "outputs": [
    {
     "name": "stdout",
     "output_type": "stream",
     "text": [
      "2 is a prime number\n"
     ]
    }
   ],
   "source": [
    "num = 2\n",
    "if num > 1:\n",
    "    for i in range(2, int(num/2)+1):\n",
    "        if (num % i) == 0:\n",
    "            print(num, \"is not a prime number\")\n",
    "            break\n",
    "    else:\n",
    "        print(num, \"is a prime number\")\n",
    "else:\n",
    "    print(num, \"is not a prime number\")"
   ]
  },
  {
   "cell_type": "code",
   "execution_count": 4,
   "id": "e15d87cb",
   "metadata": {},
   "outputs": [],
   "source": []
  },
  {
   "cell_type": "code",
   "execution_count": 12,
   "id": "e6e31372",
   "metadata": {},
   "outputs": [],
   "source": [
    "def is_prime(num):\n",
    "    for i in range(2,num):\n",
    "        if num % i == 0:\n",
    "            return False\n",
    "        return True"
   ]
  },
  {
   "cell_type": "code",
   "execution_count": 22,
   "id": "95d959c4",
   "metadata": {},
   "outputs": [
    {
     "data": {
      "text/plain": [
       "False"
      ]
     },
     "execution_count": 22,
     "metadata": {},
     "output_type": "execute_result"
    }
   ],
   "source": [
    " is_prime(12)\n",
    "    \n",
    " "
   ]
  },
  {
   "cell_type": "code",
   "execution_count": 42,
   "id": "8d593968",
   "metadata": {},
   "outputs": [
    {
     "name": "stdout",
     "output_type": "stream",
     "text": [
      "division by zero error occured\n"
     ]
    }
   ],
   "source": [
    "try:\n",
    "    print(5/0)\n",
    "except Exception as err:\n",
    "        print(err,\"error occured\")"
   ]
  },
  {
   "cell_type": "code",
   "execution_count": 60,
   "id": "b5b0ea44",
   "metadata": {},
   "outputs": [
    {
     "name": "stdout",
     "output_type": "stream",
     "text": [
      "Enter number of rows: 5\n",
      "        * \n",
      "      * * * \n",
      "    * * * * * \n",
      "  * * * * * * * \n",
      "* * * * * * * * * \n"
     ]
    }
   ],
   "source": [
    "rows = int(input(\"Enter number of rows: \"))\n",
    "\n",
    "k = 0\n",
    "\n",
    "for i in range(1, rows+1):\n",
    "    for space in range(1, (rows-i)+1):\n",
    "        print(end=\"  \")\n",
    "   \n",
    "    while k!=(2*i-1):\n",
    "        print(\"* \", end=\"\")\n",
    "        k += 1\n",
    "   \n",
    "    k = 0\n",
    "    print()"
   ]
  },
  {
   "cell_type": "code",
   "execution_count": 61,
   "id": "e44f4b32",
   "metadata": {},
   "outputs": [],
   "source": [
    "import os"
   ]
  },
  {
   "cell_type": "code",
   "execution_count": 66,
   "id": "e5725f2c",
   "metadata": {},
   "outputs": [
    {
     "name": "stdout",
     "output_type": "stream",
     "text": [
      "[WinError 183] Cannot create a file when that file already exists: 'testfolder'\n"
     ]
    }
   ],
   "source": [
    "try:\n",
    "    os.mkdir(\"testfolder\")\n",
    "except Exception as e:\n",
    "    print(e)"
   ]
  },
  {
   "cell_type": "code",
   "execution_count": 79,
   "id": "27d4a841",
   "metadata": {},
   "outputs": [],
   "source": [
    "def create_file(filename):\n",
    "    with open(filename,'w')as file:\n",
    "        file.write(\"hi i am file\"+filename)"
   ]
  },
  {
   "cell_type": "code",
   "execution_count": 90,
   "id": "f3831bd9",
   "metadata": {},
   "outputs": [],
   "source": [
    "try:\n",
    "    for i in range(1,11):\n",
    "        cwd = os.getcwd()\n",
    "\n",
    "        folder = \"\\\\testfolder\\\\\"\n",
    "        filename = str(i)+\".txt\"\n",
    "        file_path = cwd + folder + filename\n",
    "\n",
    "        create_file(file_path)\n",
    "except Exception as e:\n",
    "    print(e)\n",
    "    "
   ]
  },
  {
   "cell_type": "code",
   "execution_count": 94,
   "id": "26bf2463",
   "metadata": {},
   "outputs": [],
   "source": [
    "s ='The Red color ball truned into blue ,the green ball truned into red once dipped into color mixture. '"
   ]
  },
  {
   "cell_type": "code",
   "execution_count": 96,
   "id": "45c42e1b",
   "metadata": {},
   "outputs": [],
   "source": [
    "ls = s.split()"
   ]
  },
  {
   "cell_type": "code",
   "execution_count": 97,
   "id": "6a4bdba7",
   "metadata": {},
   "outputs": [
    {
     "name": "stdout",
     "output_type": "stream",
     "text": [
      "The Red color ball truned into blue ,the green ball truned into red once dipped into color mixture.\n"
     ]
    }
   ],
   "source": [
    "print(*ls)"
   ]
  },
  {
   "cell_type": "code",
   "execution_count": 108,
   "id": "37b17d37",
   "metadata": {},
   "outputs": [
    {
     "name": "stdout",
     "output_type": "stream",
     "text": [
      "red 2 green 1 blue 1\n"
     ]
    }
   ],
   "source": [
    "red,green,blue=0,0,0\n",
    "for item in ls:\n",
    "    if item.lower() == \"red\":\n",
    "        red+=1\n",
    "    elif item.lower() == \"green\":\n",
    "        green+=1\n",
    "    elif item.lower() == \"blue\":\n",
    "            blue+=1\n",
    "print(f\"red {red} green {green} blue {blue}\")"
   ]
  },
  {
   "cell_type": "code",
   "execution_count": null,
   "id": "057e2826",
   "metadata": {},
   "outputs": [],
   "source": []
  },
  {
   "cell_type": "code",
   "execution_count": 125,
   "id": "f476e150",
   "metadata": {},
   "outputs": [
    {
     "name": "stdout",
     "output_type": "stream",
     "text": [
      "{'t': 8, 'h': 2, 'e': 12, ' ': 18, 'r': 8, 'd': 6, 'c': 3, 'o': 8, 'l': 7, 'b': 3, 'a': 2, 'u': 4, 'n': 7, 'i': 5, ',': 1, 'g': 1, 'p': 2, 'm': 1, 'x': 1, '.': 1}\n"
     ]
    }
   ],
   "source": [
    "freq = {}\n",
    "for item in s:\n",
    "    if item.lower() in freq:\n",
    "        freq[item.lower()] += 1\n",
    "    else:\n",
    "        freq[item.lower()] = 1\n",
    "print(freq)"
   ]
  },
  {
   "cell_type": "code",
   "execution_count": null,
   "id": "239e8a72",
   "metadata": {},
   "outputs": [],
   "source": []
  }
 ],
 "metadata": {
  "kernelspec": {
   "display_name": "Python 3 (ipykernel)",
   "language": "python",
   "name": "python3"
  },
  "language_info": {
   "codemirror_mode": {
    "name": "ipython",
    "version": 3
   },
   "file_extension": ".py",
   "mimetype": "text/x-python",
   "name": "python",
   "nbconvert_exporter": "python",
   "pygments_lexer": "ipython3",
   "version": "3.9.12"
  }
 },
 "nbformat": 4,
 "nbformat_minor": 5
}
