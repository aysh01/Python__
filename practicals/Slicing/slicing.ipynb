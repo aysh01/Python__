{
  "nbformat": 4,
  "nbformat_minor": 0,
  "metadata": {
    "colab": {
      "provenance": []
    },
    "kernelspec": {
      "name": "python3",
      "display_name": "Python 3"
    },
    "language_info": {
      "name": "python"
    }
  },
  "cells": [
    {
      "cell_type": "code",
      "execution_count": 11,
      "metadata": {
        "colab": {
          "base_uri": "https://localhost:8080/"
        },
        "id": "NwC31d73K2oZ",
        "outputId": "0eba55e7-a633-4289-908e-43cda91ae0ed"
      },
      "outputs": [
        {
          "output_type": "stream",
          "name": "stdout",
          "text": [
            "Original - tupple..\n",
            " (1, 2, 3, 4, 5, 6)\n",
            "Modified - Tupple after slicing..\n",
            " (1, 2, 4, 5, 6)\n"
          ]
        }
      ],
      "source": [
        "#Tuple()\n",
        "group=(1,2,3,4,5,6)\n",
        "\n",
        "#Original Tupple()\n",
        "print(\"Original - tupple..\\n\",group)\n",
        "\n",
        "#Remove() value 3 from the tupple..\n",
        "b=group[0:2]+group[3:]\n",
        "\n",
        "#print tupple()..\n",
        "print(\"Modified - Tupple after slicing..\\n\",b)"
      ]
    }
  ]
}