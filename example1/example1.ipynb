{
 "cells": [
  {
   "cell_type": "code",
   "execution_count": 1,
   "id": "a44e669b",
   "metadata": {},
   "outputs": [
    {
     "name": "stdout",
     "output_type": "stream",
     "text": [
      "Enter Marks of Subjects: 50\n",
      "Enter Marks of Subjects: 45\n",
      "Enter Marks of Subjects: 60\n",
      "Enter Marks of Subjects: 65\n",
      "Enter Marks of Subjects: 72\n",
      "Your, Percentage is  58.4\n",
      "First..Class Congrats! App Class Mai First Ho..\n"
     ]
    }
   ],
   "source": [
    "# Wrie a prog. to accept the marks of 5 subjects & find percentage of marks & class of the student..\n",
    "subjects=['Sub1','Sub2','Sub3','Sub4','Sub5']\n",
    "marks=[] #Get values of marks of 5 subjects..\n",
    "\n",
    "for i in range(5):\n",
    "    a=float(input(\"Enter Marks of Subjects: \"))\n",
    "    marks.append(a)\n",
    "\n",
    "percentage=sum(marks) / 5\n",
    "print(\"Your, Percentage is \",percentage) #Percentage\n",
    "\n",
    "if percentage < 35:\n",
    "    print(\"I'm so Sorry.. App Fail Ho Gaye Ho..\")\n",
    "elif percentage < 40:\n",
    "    print(\"Pass..Class Congrats! App Pass Ho Gaye..\")\n",
    "elif percentage < 50:\n",
    "    print(\"Second..Class Congrats! App Class Mai Second Ho..\")\n",
    "elif percentage < 65:\n",
    "    print(\"First..Class Congrats! App Class Mai First Ho..\")\n",
    "else:\n",
    "    print(\"Congrats.. App Distinction Se Pass Ho Gaye..\")"
   ]
  }
 ],
 "metadata": {
  "kernelspec": {
   "display_name": "Python 3 (ipykernel)",
   "language": "python",
   "name": "python3"
  },
  "language_info": {
   "codemirror_mode": {
    "name": "ipython",
    "version": 3
   },
   "file_extension": ".py",
   "mimetype": "text/x-python",
   "name": "python",
   "nbconvert_exporter": "python",
   "pygments_lexer": "ipython3",
   "version": "3.9.12"
  }
 },
 "nbformat": 4,
 "nbformat_minor": 5
}
