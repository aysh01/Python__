{
  "nbformat": 4,
  "nbformat_minor": 0,
  "metadata": {
    "colab": {
      "provenance": []
    },
    "kernelspec": {
      "name": "python3",
      "display_name": "Python 3"
    },
    "language_info": {
      "name": "python"
    }
  },
  "cells": [
    {
      "cell_type": "code",
      "execution_count": null,
      "metadata": {
        "colab": {
          "base_uri": "https://localhost:8080/"
        },
        "id": "n3JbLMY-eW7T",
        "outputId": "664629e2-42f4-4504-d0df-9571abe1f77d"
      },
      "outputs": [
        {
          "output_type": "stream",
          "name": "stdout",
          "text": [
            "Current - List..\n",
            " [[9, 'Ajay', True], {'Role': 'Student', 'Status': 'Placed'}, (70, 'marks', 90.0), {False, 25, 'English'}]\n",
            "Modified - List..\n",
            " [9, 'Vijay', True]\n",
            "Modified - List..\n",
            " {'Role': 'Student', 'Status': 'Not Placed'}\n",
            "Modified - List..\n",
            " (70, 'marks', 1, 5, 9, 90.0)\n",
            "Modified - List..\n",
            " {25, 'English'}\n"
          ]
        }
      ],
      "source": [
        "a=[[9,'Ajay',True],\n",
        " {\"Role\":\"Student\",\"Status\":\"Placed\"},\n",
        "  (70,\"marks\",90.0),\n",
        "   {25,False,\"English\"}]\n",
        "\n",
        "#Current - List..\n",
        "print(\"Current - List..\\n\",a)\n",
        "\n",
        "#Change element 'Ajay' to Vijay..\n",
        "a[0][1] = \"Vijay\"\n",
        "print(\"Modified - List..\\n\",a[0])\n",
        "\n",
        "#modify status 'Placed' to 'Not Placed'..\n",
        "a[1][\"Status\"] = \"Not Placed\"\n",
        "print(\"Modified - List..\\n\",a[1])\n",
        "\n",
        "#modify 3rd element of a list as like (70,'marks',1,5,9,90.0)..\n",
        "x=(1,5,9)\n",
        "a[2]=a[2][0:2]+(x)+a[2][-1:] #We've to access the list..\n",
        "print(\"Modified - List..\\n\",a[2])\n",
        "\n",
        "#Remove any element from the last element from the list using pop..\n",
        "a[3].pop()\n",
        "print(\"Modified - List..\\n\",a[3])"
      ]
    }
  ]
}