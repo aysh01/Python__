{
 "cells": [
  {
   "cell_type": "code",
   "execution_count": 1,
   "id": "7a0c381c",
   "metadata": {},
   "outputs": [
    {
     "name": "stdout",
     "output_type": "stream",
     "text": [
      "Enter First Number: 50\n",
      "Enter Second Number: 45\n",
      "Enter Third Number: 30\n",
      "50 is bigger..\n"
     ]
    }
   ],
   "source": [
    "# Write a python prog. to check 3 numbers are bigger or not..\n",
    "#data=[]\n",
    "#for i in range(3):\n",
    "#   a=int(input(\"Enter Number: \"))\n",
    "#  data.append(a)\n",
    "\n",
    "# print (\"The, Biggest Number is: \",max(data))\n",
    "a=int(input(\"Enter First Number: \"))\n",
    "b=int(input(\"Enter Second Number: \"))\n",
    "c=int(input(\"Enter Third Number: \"))\n",
    "\n",
    "if a > b and a > c:\n",
    "    print (a,\"is bigger..\")\n",
    "elif b > c:\n",
    "    print(b,\"is bigger..\")\n",
    "else:\n",
    "    print(c,\"is bigger..\")"
   ]
  }
 ],
 "metadata": {
  "kernelspec": {
   "display_name": "Python 3 (ipykernel)",
   "language": "python",
   "name": "python3"
  },
  "language_info": {
   "codemirror_mode": {
    "name": "ipython",
    "version": 3
   },
   "file_extension": ".py",
   "mimetype": "text/x-python",
   "name": "python",
   "nbconvert_exporter": "python",
   "pygments_lexer": "ipython3",
   "version": "3.9.12"
  }
 },
 "nbformat": 4,
 "nbformat_minor": 5
}
